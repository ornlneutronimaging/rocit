{
 "cells": [
  {
   "cell_type": "code",
   "execution_count": null,
   "id": "604dbca0",
   "metadata": {},
   "outputs": [],
   "source": [
    "import imars3d\n",
    "\n",
    "from imars3d.backend.dataio.data import load_data, _get_filelist_by_dir\n",
    "import tomopy\n",
    "import os\n",
    "\n",
    "import numpy as np\n",
    "\n",
    "import ipywidgets as widgets\n",
    "from ipywidgets import interactive\n",
    "from IPython.display import display\n",
    "\n",
    "import matplotlib.pyplot as plt\n",
    "%matplotlib notebook"
   ]
  },
  {
   "cell_type": "code",
   "execution_count": null,
   "id": "ba827ac4",
   "metadata": {},
   "outputs": [],
   "source": [
    "ncore = 10"
   ]
  },
  {
   "cell_type": "markdown",
   "id": "aaf68aec",
   "metadata": {},
   "source": [
    "# Input location "
   ]
  },
  {
   "cell_type": "code",
   "execution_count": null,
   "id": "67033929",
   "metadata": {},
   "outputs": [],
   "source": [
    "ct_dir = \"/HFIR/CG1D/IPTS-29298/raw/ct_scans/2022_09_29_sample3\"\n",
    "assert os.path.exists(ct_dir)\n",
    "\n",
    "ob_dir = \"/HFIR/CG1D/IPTS-29298/raw/ob/2022_09_30\"\n",
    "assert os.path.exists(ob_dir)\n",
    "\n",
    "dc_dir = \"/HFIR/CG1D/IPTS-29298/raw/df/2022_09_29\"\n",
    "assert os.path.exists(dc_dir)"
   ]
  },
  {
   "cell_type": "code",
   "execution_count": null,
   "id": "2cf96f91",
   "metadata": {},
   "outputs": [],
   "source": [
    "list_ct_files, list_ob_files, list_dc_files = _get_filelist_by_dir(ct_dir=ct_dir,\n",
    "                                    ob_dir=ob_dir,\n",
    "                                    dc_dir=dc_dir)"
   ]
  },
  {
   "cell_type": "markdown",
   "id": "e4f0e6b4",
   "metadata": {},
   "source": [
    "## loading the data "
   ]
  },
  {
   "cell_type": "code",
   "execution_count": null,
   "id": "6e32870f",
   "metadata": {
    "scrolled": true
   },
   "outputs": [],
   "source": [
    "%%time\n",
    "ct, ob, dc, rot_angles = load_data(ct_dir=ct_dir,\n",
    "                                   ob_dir=ob_dir,\n",
    "                                   dc_dir=dc_dir,\n",
    "                                   ct_fnmatch=\"*.tiff\",\n",
    "                                   ob_fnmatch=\"*.tiff\",\n",
    "                                   dc_fnmatch=\"*.tiff\")"
   ]
  },
  {
   "cell_type": "code",
   "execution_count": null,
   "id": "50793930",
   "metadata": {},
   "outputs": [],
   "source": [
    "print(f\"{len(ct)=}\")\n",
    "print(f\"{type(ct)=}\")\n",
    "print(f\"{ct.dtype=}\")\n",
    "print(f\"{ct[0,0,0]=}\")"
   ]
  },
  {
   "cell_type": "markdown",
   "id": "5de7199c",
   "metadata": {},
   "source": [
    "visualize imported data "
   ]
  },
  {
   "cell_type": "code",
   "execution_count": null,
   "id": "2a7afd30",
   "metadata": {
    "scrolled": false
   },
   "outputs": [],
   "source": [
    "plt.figure(1)\n",
    "\n",
    "def plot_ct(index):\n",
    "    plt.title(f\"Angle: {rot_angles[index]:.2f} degrees\")\n",
    "    plt.imshow(ct[index])\n",
    "    plt.show()\n",
    "    \n",
    "ct_plot_ui = interactive(plot_ct,\n",
    "                        index=widgets.IntSlider(min=0,\n",
    "                                               max=len(ct),\n",
    "                                               value=0))\n",
    "display(ct_plot_ui)"
   ]
  },
  {
   "cell_type": "markdown",
   "id": "e285c0b1",
   "metadata": {},
   "source": [
    "## OB "
   ]
  },
  {
   "cell_type": "code",
   "execution_count": null,
   "id": "44c6ee95",
   "metadata": {},
   "outputs": [],
   "source": [
    "plt.figure(2)\n",
    "\n",
    "def plot_ob(index):\n",
    "    plt.title(f\"Angle: {rot_angles[index]:.2f} degrees\")\n",
    "    plt.imshow(ob[index])\n",
    "    plt.show()\n",
    "    \n",
    "ob_plot_ui = interactive(plot_ob,\n",
    "                        index=widgets.IntSlider(min=0,\n",
    "                                               max=len(ob),\n",
    "                                               value=0))\n",
    "display(ob_plot_ui)"
   ]
  },
  {
   "cell_type": "markdown",
   "id": "1402e46a",
   "metadata": {},
   "source": [
    "# Crop"
   ]
  },
  {
   "cell_type": "code",
   "execution_count": null,
   "id": "c7ffa217",
   "metadata": {},
   "outputs": [],
   "source": [
    "from imars3d.backend.morph.crop import crop, detect_bounds"
   ]
  },
  {
   "cell_type": "code",
   "execution_count": null,
   "id": "0b7ba5ec",
   "metadata": {},
   "outputs": [],
   "source": [
    "#%%time\n",
    "#bounds = detect_bounds(arrays=ob)"
   ]
  },
  {
   "cell_type": "code",
   "execution_count": null,
   "id": "ccaf1776",
   "metadata": {},
   "outputs": [],
   "source": [
    "#print(bounds)"
   ]
  },
  {
   "cell_type": "code",
   "execution_count": null,
   "id": "7dd5dffd",
   "metadata": {},
   "outputs": [],
   "source": [
    "crop_region = [600, 1350, 100, 1950]    # [left, right, top, bottom]"
   ]
  },
  {
   "cell_type": "code",
   "execution_count": null,
   "id": "efca2f88",
   "metadata": {},
   "outputs": [],
   "source": [
    "%%time\n",
    "ct_crop = crop(arrays=ct,\n",
    "         crop_limit=crop_region)\n",
    "ob_crop = crop(arrays=ob,\n",
    "         crop_limit=crop_region)\n",
    "dc_crop = crop(arrays=dc,\n",
    "         crop_limit=crop_region)"
   ]
  },
  {
   "cell_type": "code",
   "execution_count": null,
   "id": "d61e9375",
   "metadata": {},
   "outputs": [],
   "source": [
    "np.shape(ct_crop)"
   ]
  },
  {
   "cell_type": "code",
   "execution_count": null,
   "id": "0e5387e8",
   "metadata": {},
   "outputs": [],
   "source": [
    "plt.figure()\n",
    "plt.imshow(ct_crop[0])\n",
    "plt.colorbar()\n",
    "plt.show()"
   ]
  },
  {
   "cell_type": "code",
   "execution_count": null,
   "id": "dacc733f",
   "metadata": {},
   "outputs": [],
   "source": [
    "plt.figure()\n",
    "vertical_profile = np.mean(ct_crop[0][:,0:300], axis=1)\n",
    "plt.plot(vertical_profile)\n",
    "plt.show()"
   ]
  },
  {
   "cell_type": "markdown",
   "id": "16a6e990",
   "metadata": {},
   "source": [
    "## Gamma filtering "
   ]
  },
  {
   "cell_type": "code",
   "execution_count": null,
   "id": "380f4c4e",
   "metadata": {},
   "outputs": [],
   "source": [
    "from imars3d.backend.corrections.gamma_filter import gamma_filter"
   ]
  },
  {
   "cell_type": "code",
   "execution_count": null,
   "id": "d8976fec",
   "metadata": {},
   "outputs": [],
   "source": [
    "%%time\n",
    "ct_gamma = gamma_filter(arrays=ct_crop, \n",
    "                        selective_median_filter=False, \n",
    "                        diff_tomopy=20, \n",
    "                        max_workers=48, \n",
    "                        median_kernel=3)"
   ]
  },
  {
   "cell_type": "code",
   "execution_count": null,
   "id": "16a75c2d",
   "metadata": {},
   "outputs": [],
   "source": [
    "%%time\n",
    "#ct_gamma = ct_gamma.astype(np.ushort)\n",
    "#ob_gamma = ob_gamma.astype(np.ushort)\n",
    "#ob_gamma = ob_crop.astype(np.ushort)\n",
    "#dc_gamma = dc_gamma.astype(np.ushort)\n",
    "#dc_gamma = dc_crop.astype(np.ushort)\n",
    "ob_gamma = ob_crop\n",
    "dc_gamma = dc_crop"
   ]
  },
  {
   "cell_type": "code",
   "execution_count": null,
   "id": "da79c256",
   "metadata": {},
   "outputs": [],
   "source": [
    "plt.figure(0)\n",
    "plt.imshow(ct_gamma[0])\n",
    "plt.colorbar()\n",
    "plt.show()"
   ]
  },
  {
   "cell_type": "code",
   "execution_count": null,
   "id": "ed74c5c4",
   "metadata": {},
   "outputs": [],
   "source": [
    "plt.figure()\n",
    "vertical_profile = np.mean(ct_gamma[0][:,0:300], axis=1)\n",
    "plt.plot(vertical_profile)\n",
    "plt.show()"
   ]
  },
  {
   "cell_type": "markdown",
   "id": "0d5ecf2e",
   "metadata": {},
   "source": [
    "# Normalization"
   ]
  },
  {
   "cell_type": "code",
   "execution_count": null,
   "id": "710ad8cd",
   "metadata": {},
   "outputs": [],
   "source": [
    "# from imars3d.backend.preparation.normalization import normalization"
   ]
  },
  {
   "cell_type": "code",
   "execution_count": null,
   "id": "b15c1e49",
   "metadata": {},
   "outputs": [],
   "source": [
    "# %%time\n",
    "# ct_normalized = normalization(arrays=ct_gamma,\n",
    "#                               flats=ob_gamma,\n",
    "#                               darks=dc_gamma)"
   ]
  },
  {
   "cell_type": "code",
   "execution_count": null,
   "id": "ab79a47c",
   "metadata": {},
   "outputs": [],
   "source": [
    "# print(np.shape(ob_gamma))"
   ]
  },
  {
   "cell_type": "code",
   "execution_count": null,
   "id": "fafcb754",
   "metadata": {},
   "outputs": [],
   "source": [
    "# plt.figure(3)\n",
    "# plt.imshow(ct_normalized[0], vmin=0, vmax=1)\n",
    "# plt.colorbar()\n",
    "# plt.show()"
   ]
  },
  {
   "cell_type": "markdown",
   "id": "a6eff82e",
   "metadata": {},
   "source": [
    "### doing the calculation manually while waiting for iMars3D to be fixed !!!"
   ]
  },
  {
   "cell_type": "code",
   "execution_count": null,
   "id": "007ab0fc",
   "metadata": {
    "scrolled": false
   },
   "outputs": [],
   "source": [
    "%%time\n",
    "my_ob = np.median(ob_gamma, axis=0)\n",
    "my_dc = np.median(dc_gamma, axis=0)\n",
    "\n",
    "ct_norm = []\n",
    "for ct in ct_gamma:\n",
    "    ct_norm.append(np.true_divide(ct-my_dc, my_ob-my_dc))\n"
   ]
  },
  {
   "cell_type": "code",
   "execution_count": null,
   "id": "a83cb00d",
   "metadata": {},
   "outputs": [],
   "source": [
    "vertical_profile = np.mean(ct_norm[0][:, 0:300], axis=1)\n",
    "plt.figure()\n",
    "plt.plot(vertical_profile)\n",
    "plt.show()"
   ]
  },
  {
   "cell_type": "markdown",
   "id": "539e9f02",
   "metadata": {},
   "source": [
    "# Beam fluctuations using normalize_roi"
   ]
  },
  {
   "cell_type": "code",
   "execution_count": null,
   "id": "043f2ef5",
   "metadata": {},
   "outputs": [],
   "source": [
    "bg_region = [5, 100, 250, 1100]  #  [left, right, top, bottom]\n",
    "\n",
    "roi = [bg_region[2], bg_region[0],\n",
    "       bg_region[3], bg_region[1]]\n",
    "\n",
    "proj_norm_beam_fluctuation = tomopy.prep.normalize.normalize_roi(ct_norm,\n",
    "                                               roi=roi,\n",
    "                                               ncore=ncore)"
   ]
  },
  {
   "cell_type": "code",
   "execution_count": null,
   "id": "709c590d",
   "metadata": {},
   "outputs": [],
   "source": []
  }
 ],
 "metadata": {
  "kernelspec": {
   "display_name": "Python 3 (ipykernel)",
   "language": "python",
   "name": "python3"
  },
  "language_info": {
   "codemirror_mode": {
    "name": "ipython",
    "version": 3
   },
   "file_extension": ".py",
   "mimetype": "text/x-python",
   "name": "python",
   "nbconvert_exporter": "python",
   "pygments_lexer": "ipython3",
   "version": "3.10.6"
  }
 },
 "nbformat": 4,
 "nbformat_minor": 5
}
