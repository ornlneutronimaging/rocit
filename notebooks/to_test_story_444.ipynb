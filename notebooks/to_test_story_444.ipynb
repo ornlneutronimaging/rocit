{
 "cells": [
  {
   "cell_type": "code",
   "execution_count": null,
   "id": "c4299b19",
   "metadata": {},
   "outputs": [],
   "source": [
    "import os\n",
    "\n",
    "import numpy as np\n",
    "\n",
    "import ipywidgets as widgets\n",
    "from ipywidgets import interactive\n",
    "from IPython.display import display\n",
    "\n",
    "import matplotlib.pyplot as plt\n",
    "%matplotlib notebook\n",
    "\n",
    "import imars3d\n",
    "import tomopy\n",
    "import timeit\n",
    "\n",
    "from imars3d.backend.dataio.data import load_data, _get_filelist_by_dir\n",
    "from imars3d.backend.morph.crop import crop, detect_bounds\n",
    "from imars3d.backend.corrections.gamma_filter import gamma_filter\n",
    "from imars3d.backend.preparation.normalization import normalization\n",
    "from imars3d.backend.diagnostics import tilt\n",
    "from imars3d.backend.diagnostics.rotation import find_rotation_center"
   ]
  },
  {
   "cell_type": "code",
   "execution_count": null,
   "id": "0518c169",
   "metadata": {},
   "outputs": [],
   "source": [
    "ncore = 10"
   ]
  },
  {
   "cell_type": "code",
   "execution_count": null,
   "id": "fdfc7046",
   "metadata": {},
   "outputs": [],
   "source": [
    "ct_dir = \"/HFIR/CG1D/IPTS-29298/raw/ct_scans/2022_09_29_sample3\"\n",
    "assert os.path.exists(ct_dir)\n",
    "\n",
    "ob_dir = \"/HFIR/CG1D/IPTS-29298/raw/ob/2022_09_30\"\n",
    "assert os.path.exists(ob_dir)\n",
    "\n",
    "dc_dir = \"/HFIR/CG1D/IPTS-29298/raw/df/2022_09_29\"\n",
    "assert os.path.exists(dc_dir)"
   ]
  },
  {
   "cell_type": "markdown",
   "id": "c5a47d5b",
   "metadata": {},
   "source": [
    "# Load data "
   ]
  },
  {
   "cell_type": "code",
   "execution_count": null,
   "id": "b71489fa",
   "metadata": {},
   "outputs": [],
   "source": [
    "#%%timeit\n",
    "# proj_raw, ob_raw, dc_raw, rot_angles = load_data(ct_dir=ct_dir,\n",
    "#                                    ob_dir=ob_dir,\n",
    "#                                    dc_dir=dc_dir,\n",
    "#                                    ct_fnmatch=\"*.tiff\",\n",
    "#                                    ob_fnmatch=\"*.tiff\",\n",
    "#                                    dc_fnmatch=\"*.tiff\")\n",
    "# proj_min = np.min(proj_raw, axis=0)"
   ]
  },
  {
   "cell_type": "code",
   "execution_count": null,
   "id": "51377934",
   "metadata": {},
   "outputs": [],
   "source": [
    "t0 = timeit.default_timer()\n",
    "proj_raw, ob_raw, dc_raw, rot_angles = load_data(ct_dir=ct_dir,\n",
    "                                   ob_dir=ob_dir,\n",
    "                                   dc_dir=dc_dir,\n",
    "                                   ct_fnmatch=\"*.tiff\",\n",
    "                                   ob_fnmatch=\"*.tiff\",\n",
    "                                   dc_fnmatch=\"*.tiff\")\n",
    "proj_min = np.min(proj_raw, axis=0)\n",
    "t1 = timeit.default_timer()\n",
    "print(f\"time: {t1-t0} s\")"
   ]
  },
  {
   "cell_type": "code",
   "execution_count": null,
   "id": "2c7f2443",
   "metadata": {
    "scrolled": false
   },
   "outputs": [],
   "source": [
    "fig, (ax0, ax1, ax2) = plt.subplots(nrows=3, ncols=1, figsize=(5,9))\n",
    "proj_min = np.min(proj_raw, axis=0)\n",
    "ob_min = np.min(ob_raw, axis=0)\n",
    "dc_max = np.max(dc_raw, axis=0)\n",
    "\n",
    "plt0 = ax0.imshow(proj_min)\n",
    "fig.colorbar(plt0, ax=ax0)\n",
    "ax0.set_title(\"np.min(proj_raw)\")\n",
    "\n",
    "plt1 = ax1.imshow(ob_min)\n",
    "fig.colorbar(plt1, ax=ax1)\n",
    "ax1.set_title(\"np.min(ob_raw)\")\n",
    "\n",
    "plt2 = ax2.imshow(dc_max)\n",
    "fig.colorbar(plt2, ax=ax2)\n",
    "ax2.set_title(\"np.min(dc_raw)\")\n",
    "\n",
    "fig.tight_layout()"
   ]
  },
  {
   "cell_type": "markdown",
   "id": "6b4a6b1d",
   "metadata": {},
   "source": [
    "# Crop "
   ]
  },
  {
   "cell_type": "code",
   "execution_count": null,
   "id": "79e6704b",
   "metadata": {},
   "outputs": [],
   "source": [
    "crop_region = [600, 1350, 100, 1950]    # [left, right, top, bottom]"
   ]
  },
  {
   "cell_type": "code",
   "execution_count": null,
   "id": "d5e99eef",
   "metadata": {},
   "outputs": [],
   "source": [
    "proj_crop = crop(arrays=proj_raw,\n",
    "         crop_limit=crop_region)\n",
    "ob_crop = crop(arrays=ob_raw,\n",
    "         crop_limit=crop_region)\n",
    "dc_crop = crop(arrays=dc_raw,\n",
    "         crop_limit=crop_region)\n",
    "proj_crop_min = crop(arrays=proj_min,\n",
    "                    crop_limit=crop_region)"
   ]
  },
  {
   "cell_type": "code",
   "execution_count": null,
   "id": "a7de38e0",
   "metadata": {
    "scrolled": false
   },
   "outputs": [],
   "source": [
    "plt.figure()\n",
    "plt.imshow(proj_crop_min)\n",
    "plt.colorbar()"
   ]
  },
  {
   "cell_type": "markdown",
   "id": "da868bb7",
   "metadata": {},
   "source": [
    "# gamma filtering "
   ]
  },
  {
   "cell_type": "code",
   "execution_count": null,
   "id": "a81838fd",
   "metadata": {},
   "outputs": [],
   "source": [
    "t0 = timeit.default_timer()\n",
    "proj_gamma = gamma_filter(arrays=proj_crop, \n",
    "                        selective_median_filter=False, \n",
    "                        diff_tomopy=20, \n",
    "                        max_workers=48, \n",
    "                        median_kernel=3)\n",
    "ob_gamma = ob_crop\n",
    "dc_gamma = dc_crop\n",
    "t1 = timeit.default_timer()\n",
    "print(f\"time: {t1-t0} s\")"
   ]
  },
  {
   "cell_type": "code",
   "execution_count": null,
   "id": "3ef0e606",
   "metadata": {
    "scrolled": false
   },
   "outputs": [],
   "source": [
    "proj_gamma_min = np.min(proj_gamma, axis=0)\n",
    "plt.figure(num=\"Gamma filtering\")\n",
    "plt.imshow(proj_gamma_min)\n",
    "plt.colorbar()"
   ]
  },
  {
   "cell_type": "markdown",
   "id": "12b90a37",
   "metadata": {},
   "source": [
    "# normalization "
   ]
  },
  {
   "cell_type": "markdown",
   "id": "fb50ad1a",
   "metadata": {},
   "source": [
    "While I'm still waiting for imars3D to fix the normalization"
   ]
  },
  {
   "cell_type": "code",
   "execution_count": null,
   "id": "e1c5c6b5",
   "metadata": {},
   "outputs": [],
   "source": [
    "# %%time\n",
    "# ct_normalized = normalization(arrays=proj_gamma,\n",
    "#                               flats=ob_gamma,\n",
    "#                               darks=dc_gamma)"
   ]
  },
  {
   "cell_type": "code",
   "execution_count": null,
   "id": "51c3a1ce",
   "metadata": {},
   "outputs": [],
   "source": [
    "my_ob = np.median(ob_gamma, axis=0)\n",
    "my_dc = np.median(dc_gamma, axis=0)\n",
    "\n",
    "proj_norm = []\n",
    "for ct in proj_gamma:\n",
    "    proj_norm.append(np.true_divide(ct-my_dc, my_ob-my_dc))\n",
    "\n",
    "proj_norm = np.asarray(proj_norm)"
   ]
  },
  {
   "cell_type": "code",
   "execution_count": null,
   "id": "59165a0b",
   "metadata": {},
   "outputs": [],
   "source": [
    "proj_norm_min = np.min(proj_norm, axis=0)\n",
    "plt.figure(num=\"Normalization\")\n",
    "plt.imshow(proj_norm_min)\n",
    "plt.colorbar()"
   ]
  },
  {
   "cell_type": "markdown",
   "id": "7a1fc196",
   "metadata": {},
   "source": [
    "# beam fluctuation "
   ]
  },
  {
   "cell_type": "markdown",
   "id": "6a67b5aa",
   "metadata": {},
   "source": [
    "Using normalize_roi because part of the rotation stage is in the way and does not allow to use normalize_bg"
   ]
  },
  {
   "cell_type": "code",
   "execution_count": null,
   "id": "fadb56c1",
   "metadata": {},
   "outputs": [],
   "source": [
    "bg_region = [5, 100, 250, 1100]  #  [left, right, top, bottom]"
   ]
  },
  {
   "cell_type": "code",
   "execution_count": null,
   "id": "202d4e94",
   "metadata": {
    "scrolled": false
   },
   "outputs": [],
   "source": [
    "proj_norm_bg = proj_norm[:, bg_region[2]: bg_region[3],\n",
    "                            bg_region[0]: bg_region[1]]\n",
    "proj_norm_bg_min = np.min(proj_norm_bg, axis=0)\n",
    "plt.figure()\n",
    "plt.imshow(proj_norm_bg_min)\n",
    "plt.colorbar()"
   ]
  },
  {
   "cell_type": "code",
   "execution_count": null,
   "id": "07db7fc6",
   "metadata": {},
   "outputs": [],
   "source": [
    "roi = [bg_region[2], bg_region[0],\n",
    "       bg_region[3], bg_region[1]]"
   ]
  },
  {
   "cell_type": "code",
   "execution_count": null,
   "id": "19e8a4e1",
   "metadata": {},
   "outputs": [],
   "source": [
    "t0 = timeit.default_timer()\n",
    "proj_norm_beam_fluctuation = tomopy.prep.normalize.normalize_roi(proj_norm,\n",
    "                                               roi=roi,\n",
    "                                               ncore=ncore)\n",
    "t1 = timeit.default_timer()\n",
    "print(f\"time: {t1-t0} s\")"
   ]
  },
  {
   "cell_type": "code",
   "execution_count": null,
   "id": "5c5e4b02",
   "metadata": {},
   "outputs": [],
   "source": [
    "fig, (ax0, ax1, ax2) = plt.subplots(nrows=3, ncols=1,\n",
    "                               num=\"Beam fluctuation\",\n",
    "                               figsize=(5,15))\n",
    "\n",
    "# before beam fluctuation\n",
    "proj_norm_min = np.min(proj_norm, axis=0)\n",
    "fig0 = ax0.imshow(proj_norm_min)\n",
    "ax0.set_title(\"before\")\n",
    "plt.colorbar(fig0, ax=ax0)\n",
    "\n",
    "# after beam fluctuation\n",
    "proj_norm_beam_fluctuation_min = np.min(proj_norm_beam_fluctuation, axis=0)\n",
    "fig1 = ax1.imshow(proj_norm_beam_fluctuation_min)\n",
    "ax1.set_title(\"after\")\n",
    "plt.colorbar(fig1, ax=ax1)\n",
    "\n",
    "# difference\n",
    "diff = proj_norm_beam_fluctuation[0] - proj_norm[0]\n",
    "fig2 = ax2.imshow(diff)\n",
    "ax2.set_title(\"difference\")\n",
    "plt.colorbar(fig2, ax=ax2)"
   ]
  },
  {
   "cell_type": "markdown",
   "id": "1ae7688b",
   "metadata": {},
   "source": [
    "# transmission to attenuation "
   ]
  },
  {
   "cell_type": "code",
   "execution_count": null,
   "id": "8f85c178",
   "metadata": {},
   "outputs": [],
   "source": [
    "proj_mlog = tomopy.minus_log(proj_norm_beam_fluctuation)"
   ]
  },
  {
   "cell_type": "code",
   "execution_count": null,
   "id": "69b27c8d",
   "metadata": {},
   "outputs": [],
   "source": [
    "proj_mlog_min = np.min(proj_mlog, axis=0)\n",
    "plt.figure()\n",
    "plt.imshow(proj_mlog_min)\n",
    "plt.colorbar()"
   ]
  },
  {
   "cell_type": "markdown",
   "id": "fe038aa3",
   "metadata": {},
   "source": [
    "# Tilt correction"
   ]
  },
  {
   "cell_type": "markdown",
   "id": "2eec0981",
   "metadata": {},
   "source": [
    "Manually calculating the `atol` parameter"
   ]
  },
  {
   "cell_type": "code",
   "execution_count": null,
   "id": "40fbc3aa",
   "metadata": {},
   "outputs": [],
   "source": [
    "delta_angle = rot_angles[1] - rot_angles[0]\n",
    "mean_delta_angle = np.mean([y-x for (x,y) in zip(rot_angles[:-1], rot_angles[1:])])\n",
    "\n",
    "list_180_deg_pairs_idx = tilt.find_180_deg_pairs_idx(angles=rot_angles,\n",
    "                                                    atol=mean_delta_angle)"
   ]
  },
  {
   "cell_type": "markdown",
   "id": "c93f2bf4",
   "metadata": {},
   "source": [
    "checking that the 180degrees file found is correct"
   ]
  },
  {
   "cell_type": "code",
   "execution_count": null,
   "id": "ef65a990",
   "metadata": {},
   "outputs": [],
   "source": [
    "from imars3d.backend.dataio.data import _get_filelist_by_dir"
   ]
  },
  {
   "cell_type": "code",
   "execution_count": null,
   "id": "7adf4b10",
   "metadata": {},
   "outputs": [],
   "source": [
    "index_0_degree = list_180_deg_pairs_idx[0][0]\n",
    "index_180_degree = list_180_deg_pairs_idx[1][0]\n",
    "\n",
    "\n",
    "list_ct_files, list_ob_files, list_dc_files = _get_filelist_by_dir(ct_dir=ct_dir,\n",
    "                                                                  ob_dir=ob_dir)\n",
    "\n",
    "file_0_degree = list_ct_files[index_0_degree]\n",
    "file_180_degree = list_ct_files[index_180_degree]\n",
    "file_180_next_degree = list_ct_files[index_180_degree+1]\n",
    "\n",
    "print(f\"file 0 degrees: {os.path.basename(file_0_degree)}\")\n",
    "print(f\"file 180 degrees: {os.path.basename(file_180_degree)}\")\n",
    "print(f\"next file is: {os.path.basename(file_180_next_degree)}\")"
   ]
  },
  {
   "cell_type": "markdown",
   "id": "27cce0aa",
   "metadata": {},
   "source": [
    "Calculate tilt correction value"
   ]
  },
  {
   "cell_type": "code",
   "execution_count": null,
   "id": "2154dd31",
   "metadata": {},
   "outputs": [],
   "source": [
    "tilt_angle = tilt.calculate_tilt(image0=proj_mlog[index_0_degree],\n",
    "                                image180=proj_mlog[index_180_degree])\n",
    "print(f\"tilt_angle: {tilt_angle}\")"
   ]
  },
  {
   "cell_type": "markdown",
   "id": "34e4813d",
   "metadata": {},
   "source": [
    "apply the titl correction"
   ]
  },
  {
   "cell_type": "code",
   "execution_count": null,
   "id": "60d48f46",
   "metadata": {},
   "outputs": [],
   "source": [
    "proj_tilt_corrected = tilt.apply_tilt_correction(arrays=proj_mlog,\n",
    "                                                tilt=tilt_angle.x)"
   ]
  },
  {
   "cell_type": "markdown",
   "id": "3d804102",
   "metadata": {},
   "source": [
    "# Rotation center "
   ]
  },
  {
   "cell_type": "code",
   "execution_count": null,
   "id": "c60e68c9",
   "metadata": {
    "scrolled": true
   },
   "outputs": [],
   "source": [
    "t0 = timeit.default_timer()\n",
    "rot_center = find_rotation_center(arrays=proj_crop,\n",
    "                                 angles=rot_angles,\n",
    "                                 in_degrees=True,\n",
    "                                 atol_deg=mean_delta_angle\n",
    "                                 )\n",
    "t1 = timeit.default_timer()\n",
    "print(f\"time: {t1-t0} s\")"
   ]
  },
  {
   "cell_type": "code",
   "execution_count": null,
   "id": "85c3b2ff",
   "metadata": {},
   "outputs": [],
   "source": [
    "print(f\"{rot_center=}\")"
   ]
  },
  {
   "cell_type": "code",
   "execution_count": null,
   "id": "d22e8c5e",
   "metadata": {},
   "outputs": [],
   "source": []
  }
 ],
 "metadata": {
  "kernelspec": {
   "display_name": "Python 3 (ipykernel)",
   "language": "python",
   "name": "python3"
  },
  "language_info": {
   "codemirror_mode": {
    "name": "ipython",
    "version": 3
   },
   "file_extension": ".py",
   "mimetype": "text/x-python",
   "name": "python",
   "nbconvert_exporter": "python",
   "pygments_lexer": "ipython3",
   "version": "3.10.6"
  }
 },
 "nbformat": 4,
 "nbformat_minor": 5
}
