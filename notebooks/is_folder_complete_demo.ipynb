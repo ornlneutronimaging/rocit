{
 "cells": [
  {
   "cell_type": "code",
   "execution_count": 16,
   "id": "b5f681e3",
   "metadata": {},
   "outputs": [],
   "source": [
    "import glob\n",
    "import os\n",
    "from PIL import Image"
   ]
  },
  {
   "cell_type": "code",
   "execution_count": 7,
   "id": "cc3b6dd7",
   "metadata": {},
   "outputs": [],
   "source": [
    "folder = \"/Users/j35/HFIR/CG1D/IPTS-28170/raw/ct_scans/2022_03_16_nozzle/\""
   ]
  },
  {
   "cell_type": "code",
   "execution_count": 9,
   "id": "d3271f13",
   "metadata": {},
   "outputs": [
    {
     "name": "stdout",
     "output_type": "stream",
     "text": [
      "1162\n"
     ]
    }
   ],
   "source": [
    "list_tiff = glob.glob(os.path.join(folder, \"*.tif*\"))\n",
    "print(len(list_tiff))"
   ]
  },
  {
   "cell_type": "code",
   "execution_count": 10,
   "id": "ec05b632",
   "metadata": {},
   "outputs": [],
   "source": [
    "list_tiff.sort()"
   ]
  },
  {
   "cell_type": "code",
   "execution_count": 12,
   "id": "12179357",
   "metadata": {},
   "outputs": [
    {
     "name": "stdout",
     "output_type": "stream",
     "text": [
      "last_image: /Users/j35/HFIR/CG1D/IPTS-28170/raw/ct_scans/2022_03_16_nozzle/20220317_nozzle_0030_359_910_3269.tiff\n"
     ]
    }
   ],
   "source": [
    "last_image = list_tiff[-1]\n",
    "print(f\"last_image: {last_image}\")"
   ]
  },
  {
   "cell_type": "markdown",
   "id": "1c8ea8bf",
   "metadata": {},
   "source": [
    "### get time stamp of last image"
   ]
  },
  {
   "cell_type": "code",
   "execution_count": 13,
   "id": "13334e71",
   "metadata": {},
   "outputs": [
    {
     "name": "stdout",
     "output_type": "stream",
     "text": [
      "last_image_time_stamp: 1661795395.6920872\n"
     ]
    }
   ],
   "source": [
    "last_image_time_stamp = os.path.getatime(last_image)\n",
    "print(f\"last_image_time_stamp: {last_image_time_stamp}\")"
   ]
  },
  {
   "cell_type": "markdown",
   "id": "37eddfee",
   "metadata": {},
   "source": [
    "### get acquisition time"
   ]
  },
  {
   "cell_type": "code",
   "execution_count": 18,
   "id": "2a85faba",
   "metadata": {},
   "outputs": [],
   "source": [
    "o_image = Image.open(last_image)\n",
    "o_dict = dict(o_image.tag_v2)"
   ]
  },
  {
   "cell_type": "code",
   "execution_count": 21,
   "id": "b1b3fd01",
   "metadata": {},
   "outputs": [
    {
     "name": "stdout",
     "output_type": "stream",
     "text": [
      "ExposureTime:30.000000\n"
     ]
    }
   ],
   "source": [
    "print(o_dict[65027])"
   ]
  },
  {
   "cell_type": "code",
   "execution_count": 22,
   "id": "fbdaa2cf",
   "metadata": {},
   "outputs": [
    {
     "data": {
      "text/plain": [
       "str"
      ]
     },
     "execution_count": 22,
     "metadata": {},
     "output_type": "execute_result"
    }
   ],
   "source": [
    "type(o_dict[65027])"
   ]
  },
  {
   "cell_type": "code",
   "execution_count": 24,
   "id": "4e6ccb4e",
   "metadata": {},
   "outputs": [],
   "source": [
    "metadata = o_dict[65027]\n",
    "name,value = metadata.split(\":\")"
   ]
  },
  {
   "cell_type": "code",
   "execution_count": 25,
   "id": "fe25bb29",
   "metadata": {},
   "outputs": [
    {
     "data": {
      "text/plain": [
       "'30.000000'"
      ]
     },
     "execution_count": 25,
     "metadata": {},
     "output_type": "execute_result"
    }
   ],
   "source": [
    "value"
   ]
  },
  {
   "cell_type": "code",
   "execution_count": null,
   "id": "50f1446d",
   "metadata": {},
   "outputs": [],
   "source": []
  }
 ],
 "metadata": {
  "kernelspec": {
   "display_name": "Python 3 (ipykernel)",
   "language": "python",
   "name": "python3"
  },
  "language_info": {
   "codemirror_mode": {
    "name": "ipython",
    "version": 3
   },
   "file_extension": ".py",
   "mimetype": "text/x-python",
   "name": "python",
   "nbconvert_exporter": "python",
   "pygments_lexer": "ipython3",
   "version": "3.8.13"
  }
 },
 "nbformat": 4,
 "nbformat_minor": 5
}
