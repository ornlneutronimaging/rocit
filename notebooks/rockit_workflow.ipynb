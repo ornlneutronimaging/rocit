{
 "cells": [
  {
   "cell_type": "code",
   "execution_count": 1,
   "id": "bc625be3",
   "metadata": {},
   "outputs": [
    {
     "name": "stderr",
     "output_type": "stream",
     "text": [
      "olefile module not found\n"
     ]
    }
   ],
   "source": [
    "import tomopy\n",
    "import math\n",
    "import dxchange\n",
    "import os\n",
    "import matplotlib.pyplot as plt\n",
    "import numpy as np\n",
    "import bm3d_streak_removal as bm3d_rmv\n",
    "from imars3dv2.filters import tilt\n",
    "# import logging\n",
    "# logging.basicConfig(level=logging.INFO)\n",
    "\n",
    "# %matplotlib notebook"
   ]
  },
  {
   "cell_type": "code",
   "execution_count": null,
   "id": "b479e121",
   "metadata": {},
   "outputs": [],
   "source": [
    "def get_ind_list(name_list:list):\n",
    "    ind = []\n",
    "    ang_deg = []\n",
    "    ang_rad = []\n",
    "    ind_dict_random = {}\n",
    "    ind_dict_sorted = {}\n",
    "    for e_name in name_list:\n",
    "        _split = e_name.split('_')\n",
    "        _index_tiff = _split[-1]\n",
    "        _index = _index_tiff.split('.')[0]\n",
    "        _ang = _split[-3] + '.' + _split[-2]\n",
    "        index = int(_index)\n",
    "        angle = float(_ang)\n",
    "        ind.append(index)\n",
    "        ang_deg.append(angle)\n",
    "        ang_rad.append(math.radians(angle))\n",
    "        ind_dict_random[index] = e_name\n",
    "    ind = sorted(ind)\n",
    "    for n, e_ind in enumerate(ind):\n",
    "        ind_dict_sorted[n] = ind_dict_random[e_ind]\n",
    "    \n",
    "    return list(ind_dict_sorted.values()), (sorted(ang_deg)), np.array(sorted(ang_rad)), ind\n",
    "\n",
    "def get_list(name_list:list):\n",
    "    ind = []\n",
    "    ind_dict_random = {}\n",
    "    ind_dict_sorted = {}\n",
    "    for e_name in name_list:\n",
    "        _split = e_name.split('_')\n",
    "        _index_tiff = _split[-1]\n",
    "        _index = _index_tiff.split('.')[0]\n",
    "        index = int(_index)\n",
    "        ind.append(index)\n",
    "        ind_dict_random[index] = e_name\n",
    "    ind = sorted(ind)\n",
    "    for n, e_ind in enumerate(ind):\n",
    "        ind_dict_sorted[n] = ind_dict_random[e_ind]\n",
    "    \n",
    "    return list(ind_dict_sorted.values()), ind\n",
    "\n",
    "def _init_arr_from_stack(fname, number_of_files, slc=None):\n",
    "    \"\"\"\n",
    "    Initialize numpy array from files in a folder.\n",
    "    \"\"\"\n",
    "    _arr = dxchange.read_tiff(fname, slc)\n",
    "    size = (number_of_files, _arr.shape[0], _arr.shape[1])\n",
    "    return np.empty(size, dtype=_arr.dtype)\n",
    "\n",
    "def read_tiff_stack(fdir, fname:list):\n",
    "    arr = _init_arr_from_stack(os.path.join(fdir, fname[0]), len(fname))\n",
    "    for m, name in enumerate(fname):\n",
    "        arr[m] = dxchange.read_tiff(os.path.join(fdir, name))\n",
    "    return arr\n",
    "\n",
    "def find_proj180_ind(ang_list:list):\n",
    "    dif = [abs(x-180) for x in ang_list]\n",
    "    difmin = min(dif)\n",
    "    ind180 = dif.index(difmin)\n",
    "    return (ind180, ang_list[ind180])\n",
    "\n",
    "def shrink_window(corners, size):\n",
    "    corners[0][0] = corners[0][0] + size\n",
    "    corners[0][1] = corners[0][1] + size\n",
    "    corners[1][0] = corners[1][0] + size\n",
    "    corners[1][1] = corners[1][1] - size\n",
    "    corners[2][0] = corners[2][0] - size\n",
    "    corners[2][1] = corners[2][1] - size\n",
    "    corners[3][0] = corners[3][0] - size\n",
    "    corners[3][1] = corners[3][1] + size\n",
    "    return corners\n",
    "\n",
    "def set_roi(corners, xmin, ymin, xmax, ymax):\n",
    "    corners[0][0] = xmin\n",
    "    corners[0][1] = ymin\n",
    "    corners[1][0] = xmin\n",
    "    corners[1][1] = ymax\n",
    "    corners[2][0] = xmax\n",
    "    corners[2][1] = ymax\n",
    "    corners[3][0] = xmax\n",
    "    corners[3][1] = ymin\n",
    "    return corners"
   ]
  },
  {
   "cell_type": "code",
   "execution_count": null,
   "id": "950150da",
   "metadata": {},
   "outputs": [],
   "source": [
    "###################### need to change start\n",
    "ipts=\"23788\"\n",
    "###################### need to change end"
   ]
  },
  {
   "cell_type": "code",
   "execution_count": null,
   "id": "fdfc10c5",
   "metadata": {
    "scrolled": false
   },
   "outputs": [],
   "source": [
    "# ct_scan_loc = \"/HFIR/CG1D/IPTS-\"+ipts+\"/raw/ct_scans\"\n",
    "ct_scan_loc = \"/Users/j35/IPTS/HFIR/CG1D/IPTS-27158/raw/ct_scans/\"\n",
    "os.listdir(ct_scan_loc)"
   ]
  },
  {
   "cell_type": "code",
   "execution_count": null,
   "id": "cf619cd1",
   "metadata": {},
   "outputs": [],
   "source": [
    "###################### need to change start\n",
    "ct_scan_dir = os.path.join(ct_scan_loc, \"ct_scans_files_combined_by_15_median/\")\n",
    "###################### need to change end\n",
    "# os.listdir(ct_scan_dir)\n",
    "ct_name, ang_deg, theta, ind_list = get_ind_list(os.listdir(ct_scan_dir))\n",
    "proj180_ind = find_proj180_ind(ang_deg)[0]\n",
    "print('Found index of 180 degree projections: ', proj180_ind)\n",
    "print('Loading CT projections...')\n",
    "proj = read_tiff_stack(fdir=ct_scan_dir, fname=ct_name)\n",
    "print(proj.shape)\n",
    "# plt.imshow(proj[0])\n",
    "# plt.colorbar()\n",
    "# plt.show()"
   ]
  },
  {
   "cell_type": "markdown",
   "id": "dbbd4318",
   "metadata": {},
   "source": [
    "# Open Beam (OB)"
   ]
  },
  {
   "cell_type": "code",
   "execution_count": null,
   "id": "830f22a1",
   "metadata": {},
   "outputs": [],
   "source": [
    "# ob_loc = \"/HFIR/CG1D/IPTS-\"+ipts+\"/raw/ob\"\n",
    "ob_loc = \"/Users/j35/IPTS/HFIR/CG1D/IPTS-27158/raw/ob\"\n",
    "os.listdir(ob_loc)"
   ]
  },
  {
   "cell_type": "code",
   "execution_count": null,
   "id": "bab27199",
   "metadata": {},
   "outputs": [],
   "source": [
    "###################### need to change start\n",
    "#ob_dir = os.path.join(ob_loc, \"Aug24_2020\")\n",
    "ob_dir = os.path.join(ob_loc, \"2021_10_05_cells\")\n",
    "###################### need to change end\n",
    "# os.listdir(ob_dir)\n",
    "ob_name, ob_ind_list = get_list(os.listdir(ob_dir))\n",
    "print(\"Loading Open Beam (OB)...\")\n",
    "ob = read_tiff_stack(fdir=ob_dir, fname=ob_name)\n",
    "print(ob.shape)\n",
    "# plt.imshow(ob[0])\n",
    "# plt.colorbar()\n",
    "# plt.show()"
   ]
  },
  {
   "cell_type": "markdown",
   "id": "020494a1",
   "metadata": {},
   "source": [
    "# Dark Current (DC)"
   ]
  },
  {
   "cell_type": "code",
   "execution_count": null,
   "id": "5956c79d",
   "metadata": {},
   "outputs": [],
   "source": [
    "# dc_loc = \"/HFIR/CG1D/IPTS-\"+ipts+\"/raw/df\"\n",
    "dc_loc = \"/Users/j35/IPTS/HFIR/CG1D/IPTS-27158/raw/df\"\n",
    "os.listdir(dc_loc)"
   ]
  },
  {
   "cell_type": "code",
   "execution_count": null,
   "id": "c7053bac",
   "metadata": {},
   "outputs": [],
   "source": [
    "###################### need to change start\n",
    "# dc_dir = os.path.join(dc_loc, \"Aug24_2020\")\n",
    "dc_dir = os.path.join(dc_loc, \"2021_10_05_cells\")\n",
    "###################### need to change end\n",
    "# os.listdir(dc_dir)\n",
    "dc_name, dc_ind_list = get_list(os.listdir(dc_dir))\n",
    "print(\"Loading Dark Current (DC)...\")\n",
    "dc = read_tiff_stack(fdir=dc_dir, fname=dc_name)\n",
    "print(dc.shape)\n",
    "# plt.imshow(dc[0])\n",
    "# plt.colorbar()\n",
    "# plt.show()"
   ]
  },
  {
   "cell_type": "markdown",
   "id": "0673d0e1",
   "metadata": {},
   "source": [
    "# Detect and crop the slits"
   ]
  },
  {
   "cell_type": "code",
   "execution_count": null,
   "id": "cfad03f1",
   "metadata": {
    "scrolled": false
   },
   "outputs": [],
   "source": [
    "slit_box_corners = tomopy.prep.alignment.find_slits_corners_aps_1id(img=ob[0], method='simple')\n",
    "print(\"Slit corners: \", slit_box_corners)\n",
    "proj = tomopy.prep.alignment.remove_slits_aps_1id(proj, slit_box_corners)\n",
    "ob = tomopy.prep.alignment.remove_slits_aps_1id(ob, slit_box_corners)\n",
    "dc = tomopy.prep.alignment.remove_slits_aps_1id(dc, slit_box_corners)\n",
    "print(\"Projection at 0 degree:\")\n",
    "plt.imshow(proj[0])\n",
    "plt.show()\n",
    "print(\"Projection at 180 degree:\")\n",
    "plt.imshow(proj[proj180_ind])\n",
    "plt.show()"
   ]
  },
  {
   "cell_type": "markdown",
   "id": "b9cded8c",
   "metadata": {},
   "source": [
    "# Further Define the ROI"
   ]
  },
  {
   "cell_type": "code",
   "execution_count": null,
   "id": "98096832",
   "metadata": {},
   "outputs": [],
   "source": [
    "roi_corners = set_roi(corners=slit_box_corners, xmin=250, ymin=600, xmax=1250, ymax=1300)\n",
    "proj_crop = tomopy.prep.alignment.remove_slits_aps_1id(proj, roi_corners)\n",
    "ob_crop = tomopy.prep.alignment.remove_slits_aps_1id(ob, roi_corners)\n",
    "dc_crop = tomopy.prep.alignment.remove_slits_aps_1id(dc, roi_corners)\n",
    "print(\"Projection at 0 degree:\")\n",
    "plt.imshow(proj_crop[0])\n",
    "plt.show()\n",
    "print(\"Projection at 180 degree:\")\n",
    "plt.imshow(proj_crop[proj180_ind])\n",
    "plt.show()"
   ]
  },
  {
   "cell_type": "markdown",
   "id": "8b34aeec",
   "metadata": {},
   "source": [
    "# Remove Outliers"
   ]
  },
  {
   "cell_type": "code",
   "execution_count": null,
   "id": "b5b49267",
   "metadata": {},
   "outputs": [],
   "source": [
    "proj_crop = tomopy.misc.corr.remove_outlier(proj_crop, 50)\n",
    "plt.imshow(proj_crop[0])\n",
    "plt.colorbar()\n",
    "plt.show()"
   ]
  },
  {
   "cell_type": "markdown",
   "id": "75d744dc",
   "metadata": {},
   "source": [
    "# Normalization"
   ]
  },
  {
   "cell_type": "code",
   "execution_count": null,
   "id": "0c7329a1",
   "metadata": {},
   "outputs": [],
   "source": [
    "proj_norm = tomopy.normalize(proj_crop, ob_crop, dc_crop)\n",
    "plt.imshow(proj_norm[0], vmin=0, vmax=1)\n",
    "plt.colorbar()\n",
    "plt.show()"
   ]
  },
  {
   "cell_type": "markdown",
   "id": "e49518ea",
   "metadata": {},
   "source": [
    "# Beam fluctuation correction"
   ]
  },
  {
   "cell_type": "code",
   "execution_count": null,
   "id": "97d9384f",
   "metadata": {},
   "outputs": [],
   "source": [
    "proj_norm = tomopy.prep.normalize.normalize_bg(proj_norm, air=50)\n",
    "plt.imshow(proj_norm[0], vmin=0, vmax=1)\n",
    "plt.colorbar()\n",
    "plt.show()"
   ]
  },
  {
   "cell_type": "markdown",
   "id": "7939c839",
   "metadata": {},
   "source": [
    "# Minus log conversion"
   ]
  },
  {
   "cell_type": "code",
   "execution_count": null,
   "id": "1ad7d992",
   "metadata": {},
   "outputs": [],
   "source": [
    "proj_mlog = tomopy.minus_log(proj_norm)\n",
    "plt.imshow(proj_mlog[0])\n",
    "plt.colorbar()\n",
    "plt.show()"
   ]
  },
  {
   "cell_type": "markdown",
   "id": "fe9363e1",
   "metadata": {},
   "source": [
    "# Ring Artifact Removal"
   ]
  },
  {
   "cell_type": "code",
   "execution_count": null,
   "id": "47b86dd4",
   "metadata": {
    "scrolled": false
   },
   "outputs": [],
   "source": [
    "proj_rmv = tomopy.prep.stripe.remove_all_stripe(proj_mlog)\n",
    "print(\"Before ring removal:\")\n",
    "plt.imshow(proj_mlog[:, 500, :])\n",
    "plt.colorbar()\n",
    "plt.show()\n",
    "print(\"After ring removal:\")\n",
    "plt.imshow(proj_rmv[:, 500, :])\n",
    "plt.colorbar()\n",
    "plt.show()"
   ]
  },
  {
   "cell_type": "code",
   "execution_count": null,
   "id": "d634f7f1",
   "metadata": {
    "scrolled": true
   },
   "outputs": [],
   "source": [
    "# # bm3d, better, but slow\n",
    "# proj_bm3d_norm = bm3d_rmv.extreme_streak_attenuation(proj_mlog)\n",
    "# proj_bm3d = bm3d_rmv.multiscale_streak_removal(proj_bm3d_norm)"
   ]
  },
  {
   "cell_type": "markdown",
   "id": "957e1a4a",
   "metadata": {},
   "source": [
    "# Find and correct tilt"
   ]
  },
  {
   "cell_type": "code",
   "execution_count": null,
   "id": "c7d5d560",
   "metadata": {},
   "outputs": [],
   "source": [
    "print(\"Finding the tilt angle...\")\n",
    "tilt_ang = tilt.calculate_tilt(image0=proj_rmv[0], image180=proj_rmv[proj180_ind])\n",
    "print(\"Found the tilt angle: \", tilt_ang.x)\n",
    "proj_tilt = tilt.apply_tilt_correction(proj_rmv, tilt_ang.x)\n",
    "print(\"Projection at 0 degree:\")\n",
    "plt.imshow(proj_tilt[0])\n",
    "plt.colorbar()\n",
    "plt.show()\n",
    "print(\"Projection at 180 degree:\")\n",
    "plt.imshow(proj_tilt[proj180_ind])\n",
    "plt.colorbar()\n",
    "plt.show()"
   ]
  },
  {
   "cell_type": "markdown",
   "id": "90c3bb84",
   "metadata": {},
   "source": [
    "# Find Center of Rotation"
   ]
  },
  {
   "cell_type": "code",
   "execution_count": null,
   "id": "1f610fda",
   "metadata": {},
   "outputs": [],
   "source": [
    "rot_center = tomopy.find_center_pc(np.squeeze(proj_tilt[0,:,:]), np.squeeze(proj_tilt[proj180_ind,:,:]), tol=0.5)\n",
    "print('Estimated center of rotation', rot_center)"
   ]
  },
  {
   "cell_type": "markdown",
   "id": "694bbdc6",
   "metadata": {},
   "source": [
    "# Reconstruction"
   ]
  },
  {
   "cell_type": "code",
   "execution_count": null,
   "id": "d7c6b15d",
   "metadata": {},
   "outputs": [],
   "source": [
    "recon = tomopy.recon(proj_tilt, theta, center=rot_center, algorithm='gridrec', sinogram_order=False)\n",
    "recon = tomopy.circ_mask(recon, axis=0, ratio=0.95)\n",
    "plt.imshow(recon[500, :, :])\n",
    "plt.colorbar()\n",
    "plt.show()"
   ]
  },
  {
   "cell_type": "markdown",
   "id": "0ca934de",
   "metadata": {},
   "source": [
    "# Export recon files"
   ]
  },
  {
   "cell_type": "code",
   "execution_count": null,
   "id": "b84f852d",
   "metadata": {},
   "outputs": [],
   "source": [
    "################ change save path for your own\n",
    "save_to = \"/HFIR/CG1D/IPTS-\"+ipts+\"/shared/autoreduce/rockit_lava\"\n",
    "fname = save_to + \"/recon\" \n",
    "dxchange.write_tiff_stack(recon, fname=fname, overwrite=True)"
   ]
  },
  {
   "cell_type": "code",
   "execution_count": null,
   "id": "ea6652b7",
   "metadata": {},
   "outputs": [],
   "source": []
  }
 ],
 "metadata": {
  "kernelspec": {
   "display_name": "Python 3 (ipykernel)",
   "language": "python",
   "name": "python3"
  },
  "language_info": {
   "codemirror_mode": {
    "name": "ipython",
    "version": 3
   },
   "file_extension": ".py",
   "mimetype": "text/x-python",
   "name": "python",
   "nbconvert_exporter": "python",
   "pygments_lexer": "ipython3",
   "version": "3.10.4"
  }
 },
 "nbformat": 4,
 "nbformat_minor": 5
}
