{
 "cells": [
  {
   "cell_type": "code",
   "execution_count": null,
   "id": "604dbca0",
   "metadata": {},
   "outputs": [],
   "source": [
    "import imars3d\n",
    "\n",
    "from imars3d.backend.dataio.data import load_data, _get_filelist_by_dir\n",
    "import os\n",
    "\n",
    "import numpy as np\n",
    "\n",
    "import ipywidgets as widgets\n",
    "from ipywidgets import interactive\n",
    "from IPython.display import display\n",
    "\n",
    "import matplotlib.pyplot as plt\n",
    "%matplotlib notebook"
   ]
  },
  {
   "cell_type": "code",
   "execution_count": null,
   "id": "204c935c",
   "metadata": {},
   "outputs": [],
   "source": [
    "ncore = 48"
   ]
  },
  {
   "cell_type": "markdown",
   "id": "aaf68aec",
   "metadata": {},
   "source": [
    "# Input location "
   ]
  },
  {
   "cell_type": "code",
   "execution_count": null,
   "id": "67033929",
   "metadata": {},
   "outputs": [],
   "source": [
    "ct_dir = \"/HFIR/CG1D/IPTS-23788/raw/ct_scans/Aug24_2020\"\n",
    "assert os.path.exists(ct_dir)\n",
    "\n",
    "ob_dir = \"/HFIR/CG1D/IPTS-23788/raw/ob/Aug24_2020\"\n",
    "assert os.path.exists(ob_dir)\n",
    "\n",
    "dc_dir = \"/HFIR/CG1D/IPTS-23788/raw/df/Aug24_2020\"\n",
    "assert os.path.exists(dc_dir)"
   ]
  },
  {
   "cell_type": "code",
   "execution_count": null,
   "id": "fc16b5ea",
   "metadata": {},
   "outputs": [],
   "source": [
    "list_ct_files, list_ob_files, list_dc_files = _get_filelist_by_dir(ct_dir=ct_dir,\n",
    "                                    ob_dir=ob_dir,\n",
    "                                    dc_dir=dc_dir)"
   ]
  },
  {
   "cell_type": "markdown",
   "id": "38c139ef",
   "metadata": {},
   "source": [
    "## loading the data "
   ]
  },
  {
   "cell_type": "code",
   "execution_count": null,
   "id": "6e32870f",
   "metadata": {
    "scrolled": true
   },
   "outputs": [],
   "source": [
    "%%time\n",
    "ct, ob, dc, rot_angles = load_data(ct_dir=ct_dir,\n",
    "                                   ob_dir=ob_dir,\n",
    "                                   dc_dir=dc_dir,\n",
    "                                   ct_fnmatch=\"*.tiff\",\n",
    "                                   ob_fnmatch=\"*.tiff\",\n",
    "                                   dc_fnmatch=\"*.tiff\")"
   ]
  },
  {
   "cell_type": "code",
   "execution_count": null,
   "id": "50793930",
   "metadata": {},
   "outputs": [],
   "source": [
    "print(f\"{len(ct)=}\")\n",
    "print(f\"{type(ct)=}\")\n",
    "print(f\"{ct.dtype=}\")\n",
    "print(f\"{ct[0,0,0]=}\")"
   ]
  },
  {
   "cell_type": "markdown",
   "id": "bf2efee5",
   "metadata": {},
   "source": [
    "visualize imported data "
   ]
  },
  {
   "cell_type": "code",
   "execution_count": null,
   "id": "2a7afd30",
   "metadata": {
    "scrolled": false
   },
   "outputs": [],
   "source": [
    "plt.figure(1)\n",
    "\n",
    "def plot_ct(index):\n",
    "    plt.title(f\"Angle: {rot_angles[index]:.2f} degrees\")\n",
    "    plt.imshow(ct[index])\n",
    "    plt.show()\n",
    "    \n",
    "ct_plot_ui = interactive(plot_ct,\n",
    "                        index=widgets.IntSlider(min=0,\n",
    "                                               max=len(ct),\n",
    "                                               value=0))\n",
    "display(ct_plot_ui)"
   ]
  },
  {
   "cell_type": "markdown",
   "id": "e285c0b1",
   "metadata": {},
   "source": [
    "## OB "
   ]
  },
  {
   "cell_type": "code",
   "execution_count": null,
   "id": "44c6ee95",
   "metadata": {},
   "outputs": [],
   "source": [
    "plt.figure(2)\n",
    "\n",
    "def plot_ob(index):\n",
    "    plt.title(f\"Angle: {rot_angles[index]:.2f} degrees\")\n",
    "    plt.imshow(ob[index])\n",
    "    plt.show()\n",
    "    \n",
    "ob_plot_ui = interactive(plot_ob,\n",
    "                        index=widgets.IntSlider(min=0,\n",
    "                                               max=len(ob),\n",
    "                                               value=0))\n",
    "display(ob_plot_ui)"
   ]
  },
  {
   "cell_type": "markdown",
   "id": "1402e46a",
   "metadata": {},
   "source": [
    "# Crop"
   ]
  },
  {
   "cell_type": "code",
   "execution_count": null,
   "id": "c7ffa217",
   "metadata": {},
   "outputs": [],
   "source": [
    "from imars3d.backend.morph.crop import crop, detect_bounds"
   ]
  },
  {
   "cell_type": "code",
   "execution_count": null,
   "id": "a3d742b9",
   "metadata": {},
   "outputs": [],
   "source": [
    "#%%time\n",
    "#bounds = detect_bounds(arrays=ob)"
   ]
  },
  {
   "cell_type": "code",
   "execution_count": null,
   "id": "7b9a3693",
   "metadata": {},
   "outputs": [],
   "source": [
    "#print(bounds)"
   ]
  },
  {
   "cell_type": "code",
   "execution_count": null,
   "id": "7dd5dffd",
   "metadata": {},
   "outputs": [],
   "source": [
    "crop_region = [200, 1500, 0, 1400]    # [left, right, top, bottom]"
   ]
  },
  {
   "cell_type": "code",
   "execution_count": null,
   "id": "efca2f88",
   "metadata": {},
   "outputs": [],
   "source": [
    "%%time\n",
    "ct_crop = crop(arrays=ct,\n",
    "         crop_limit=crop_region)\n",
    "ob_crop = crop(arrays=ob,\n",
    "         crop_limit=crop_region)\n",
    "dc_crop = crop(arrays=dc,\n",
    "         crop_limit=crop_region)"
   ]
  },
  {
   "cell_type": "code",
   "execution_count": null,
   "id": "e1a442d6",
   "metadata": {},
   "outputs": [],
   "source": [
    "np.shape(ct_crop)"
   ]
  },
  {
   "cell_type": "code",
   "execution_count": null,
   "id": "7bd98430",
   "metadata": {},
   "outputs": [],
   "source": [
    "plt.figure()\n",
    "plt.imshow(ct_crop[0])\n",
    "plt.colorbar()\n",
    "plt.show()"
   ]
  },
  {
   "cell_type": "code",
   "execution_count": null,
   "id": "dacc733f",
   "metadata": {},
   "outputs": [],
   "source": [
    "plt.figure()\n",
    "vertical_profile = np.mean(ct_crop[0][:,0:300], axis=1)\n",
    "plt.plot(vertical_profile)\n",
    "plt.show()"
   ]
  },
  {
   "cell_type": "markdown",
   "id": "16a6e990",
   "metadata": {},
   "source": [
    "## Gamma filtering "
   ]
  },
  {
   "cell_type": "code",
   "execution_count": null,
   "id": "380f4c4e",
   "metadata": {},
   "outputs": [],
   "source": [
    "from imars3d.backend.corrections.gamma_filter import gamma_filter"
   ]
  },
  {
   "cell_type": "code",
   "execution_count": null,
   "id": "d8976fec",
   "metadata": {},
   "outputs": [],
   "source": [
    "%%time\n",
    "ct_gamma = gamma_filter(arrays=ct_crop, \n",
    "                        selective_median_filter=False, \n",
    "                        diff_tomopy=20, \n",
    "                        max_workers=48, \n",
    "                        median_kernel=3)"
   ]
  },
  {
   "cell_type": "code",
   "execution_count": null,
   "id": "ec7844f8",
   "metadata": {},
   "outputs": [],
   "source": [
    "%%time\n",
    "#ct_gamma = ct_gamma.astype(np.ushort)\n",
    "#ob_gamma = ob_gamma.astype(np.ushort)\n",
    "#ob_gamma = ob_crop.astype(np.ushort)\n",
    "#dc_gamma = dc_gamma.astype(np.ushort)\n",
    "#dc_gamma = dc_crop.astype(np.ushort)\n",
    "ob_gamma = ob_crop\n",
    "dc_gamma = dc_crop"
   ]
  },
  {
   "cell_type": "code",
   "execution_count": null,
   "id": "da4bd161",
   "metadata": {},
   "outputs": [],
   "source": [
    "plt.figure(0)\n",
    "plt.imshow(ct_gamma[0])\n",
    "plt.colorbar()\n",
    "plt.show()"
   ]
  },
  {
   "cell_type": "code",
   "execution_count": null,
   "id": "6cb7255c",
   "metadata": {},
   "outputs": [],
   "source": [
    "plt.figure()\n",
    "vertical_profile = np.mean(ct_gamma[0][:,0:300], axis=1)\n",
    "plt.plot(vertical_profile)\n",
    "plt.show()"
   ]
  },
  {
   "cell_type": "markdown",
   "id": "0d5ecf2e",
   "metadata": {},
   "source": [
    "# Normalization"
   ]
  },
  {
   "cell_type": "code",
   "execution_count": null,
   "id": "710ad8cd",
   "metadata": {},
   "outputs": [],
   "source": [
    "# from imars3d.backend.preparation.normalization import normalization"
   ]
  },
  {
   "cell_type": "code",
   "execution_count": null,
   "id": "d23c80ca",
   "metadata": {},
   "outputs": [],
   "source": [
    "# %%time\n",
    "# ct_normalized = normalization(arrays=ct_gamma,\n",
    "#                               flats=ob_gamma,\n",
    "#                               darks=dc_gamma)"
   ]
  },
  {
   "cell_type": "code",
   "execution_count": null,
   "id": "01cea7e1",
   "metadata": {},
   "outputs": [],
   "source": [
    "# print(np.shape(ob_gamma))"
   ]
  },
  {
   "cell_type": "code",
   "execution_count": null,
   "id": "98cf77e2",
   "metadata": {},
   "outputs": [],
   "source": [
    "# plt.figure(3)\n",
    "# plt.imshow(ct_normalized[0], vmin=0, vmax=1)\n",
    "# plt.colorbar()\n",
    "# plt.show()"
   ]
  },
  {
   "cell_type": "markdown",
   "id": "9abeb019",
   "metadata": {},
   "source": [
    "### doing the calculation manually while waiting for iMars3D to be fixed !!!"
   ]
  },
  {
   "cell_type": "code",
   "execution_count": null,
   "id": "41813c7a",
   "metadata": {
    "scrolled": false
   },
   "outputs": [],
   "source": [
    "%%time\n",
    "my_ob = np.median(ob_gamma, axis=0)\n",
    "my_dc = np.median(dc_gamma, axis=0)\n",
    "\n",
    "ct_norm = []\n",
    "for ct in ct_gamma:\n",
    "    ct_norm.append(np.true_divide(ct-my_dc, my_ob-my_dc))\n"
   ]
  },
  {
   "cell_type": "code",
   "execution_count": null,
   "id": "fa12ad4e",
   "metadata": {},
   "outputs": [],
   "source": [
    "vertical_profile = np.mean(ct_norm[0][:, 0:300], axis=1)\n",
    "plt.figure()\n",
    "plt.plot(vertical_profile)\n",
    "plt.show()"
   ]
  },
  {
   "cell_type": "markdown",
   "id": "89f7e98d",
   "metadata": {},
   "source": [
    "# Beam fluctuations"
   ]
  },
  {
   "cell_type": "markdown",
   "id": "e5634d28",
   "metadata": {},
   "source": [
    "## using tomopy.normalize_bg "
   ]
  },
  {
   "cell_type": "code",
   "execution_count": null,
   "id": "94c0f65f",
   "metadata": {},
   "outputs": [],
   "source": [
    "from imars3d.backend.corrections.intensity_fluctuation_correction import intensity_fluctuation_correction"
   ]
  },
  {
   "cell_type": "code",
   "execution_count": null,
   "id": "8f3dacbc",
   "metadata": {},
   "outputs": [],
   "source": [
    "# import tomopy\n",
    "# ct_beam_fluctuation_with_tomopy = tomopy.normalize_bg(ct_norm)"
   ]
  },
  {
   "cell_type": "code",
   "execution_count": null,
   "id": "739e81b2",
   "metadata": {
    "scrolled": false
   },
   "outputs": [],
   "source": [
    "%%time\n",
    "ct_beam_fluctuation = intensity_fluctuation_correction(ct=ct_norm,\n",
    "                                                       air_pixels=200)"
   ]
  },
  {
   "cell_type": "code",
   "execution_count": null,
   "id": "1c6b2c27",
   "metadata": {},
   "outputs": [],
   "source": [
    "vertical_profile_before = np.mean(ct_normalized[:,400], axis=1)\n",
    "vertical_profile_after = np.mean(ct_beam_fluctuation_with_tomopy[:, 400], axis=1)\n",
    "plt.figure(num=\"using intensity fluctuation correction\")\n",
    "plt.plot(vertical_profile_before, label='normalized')\n",
    "plt.plot(vertical_profile_after, label='fluctuation correction')\n",
    "plt.show()\n",
    "plt.legend()"
   ]
  },
  {
   "cell_type": "code",
   "execution_count": null,
   "id": "7fe052e7",
   "metadata": {},
   "outputs": [],
   "source": []
  }
 ],
 "metadata": {
  "kernelspec": {
   "display_name": "Python 3 (ipykernel)",
   "language": "python",
   "name": "python3"
  },
  "language_info": {
   "codemirror_mode": {
    "name": "ipython",
    "version": 3
   },
   "file_extension": ".py",
   "mimetype": "text/x-python",
   "name": "python",
   "nbconvert_exporter": "python",
   "pygments_lexer": "ipython3",
   "version": "3.10.6"
  }
 },
 "nbformat": 4,
 "nbformat_minor": 5
}
