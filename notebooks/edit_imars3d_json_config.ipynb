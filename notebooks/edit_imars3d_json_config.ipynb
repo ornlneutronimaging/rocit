{
 "cells": [
  {
   "cell_type": "code",
   "execution_count": 5,
   "id": "c2a75e0e-9c5e-40e9-af35-0c6cfe79a9e1",
   "metadata": {},
   "outputs": [],
   "source": [
    "import json\n",
    "import os"
   ]
  },
  {
   "cell_type": "code",
   "execution_count": 7,
   "id": "37fdfe35-e18c-4142-b1bb-aebfbeca1bf6",
   "metadata": {},
   "outputs": [],
   "source": [
    "json_file = \"../data/imars3d_reconstruction_config.json\"\n",
    "assert os.path.exists(json_file)"
   ]
  },
  {
   "cell_type": "code",
   "execution_count": 8,
   "id": "45693573-c88c-45cb-a38e-7ac03ec5266c",
   "metadata": {},
   "outputs": [],
   "source": [
    "with open(json_file) as f:\n",
    "    data = json.load(f)\n"
   ]
  },
  {
   "cell_type": "markdown",
   "id": "fc4638d2-a6e4-4331-8b20-0af97dd5201b",
   "metadata": {},
   "source": [
    "## edit json"
   ]
  },
  {
   "cell_type": "code",
   "execution_count": 9,
   "id": "146d3748-9479-493c-831b-2fa785882f22",
   "metadata": {},
   "outputs": [],
   "source": [
    "ob_files = ['ob_file1', 'ob_file2', 'ob_file3']\n",
    "dc_files = ['dc_file1', 'dc_file2', 'dc_file3']\n",
    "ct_files = ['image1', 'image2', 'image3', 'image4']"
   ]
  },
  {
   "cell_type": "code",
   "execution_count": 10,
   "id": "b9ae8d6c-ee85-4000-8f5a-4237aafe53ae",
   "metadata": {},
   "outputs": [],
   "source": [
    "ct_fnmatch = ob_fnmatch = dc_fnmatch = \"*.tiff\""
   ]
  },
  {
   "cell_type": "markdown",
   "id": "a4bd05e7-3b02-45c8-a486-55e135bb77e8",
   "metadata": {},
   "source": [
    "## before vs after "
   ]
  },
  {
   "cell_type": "code",
   "execution_count": 11,
   "id": "471c1527-7578-4e4d-94e6-999c558761aa",
   "metadata": {},
   "outputs": [
    {
     "name": "stdout",
     "output_type": "stream",
     "text": [
      "data['tasks'][0]['inputs'] ={'ct_dir': 'tests/data/imars3d-data/HFIR/CG1D/IPTS-25777/raw/ct_scans/iron_man', 'ob_dir': 'tests/data/imars3d-data/HFIR/CG1D/IPTS-25777/raw/ob/Oct29_2019/', 'dc_dir': 'tests/data/imars3d-data/HFIR/CG1D/IPTS-25777/raw/df/Oct29_2019/', 'ct_fnmatch': '*.tiff', 'ob_fnmatch': '*.tiff', 'dc_fnmatch': '*.tiff'}\n"
     ]
    }
   ],
   "source": [
    "# before\n",
    "\n",
    "print(f\"{data['tasks'][0]['inputs'] =}\")"
   ]
  },
  {
   "cell_type": "code",
   "execution_count": 12,
   "id": "27c62643-e007-4980-9a9e-7159ae299806",
   "metadata": {},
   "outputs": [],
   "source": [
    "data['tasks'][0]['inputs'] = {'ct_files': ct_files,\n",
    "                              'ob_files': ob_files,\n",
    "                              'dc_files': dc_files,\n",
    "                              'ct_fnmatch': ct_fnmatch,\n",
    "                              'ob_fnmatch': ob_fnmatch,\n",
    "                              'dc_fnmatch': dc_fnmatch}"
   ]
  },
  {
   "cell_type": "code",
   "execution_count": 13,
   "id": "022e9aa6-3c70-47c6-ba5a-e58ae5691c2c",
   "metadata": {},
   "outputs": [
    {
     "name": "stdout",
     "output_type": "stream",
     "text": [
      "data['tasks'][0]['inputs'] ={'ct_files': ['image1', 'image2', 'image3', 'image4'], 'ob_files': ['ob_file1', 'ob_file2', 'ob_file3'], 'dc_files': ['dc_file1', 'dc_file2', 'dc_file3'], 'ct_fnmatch': '*.tiff', 'ob_fnmatch': '*.tiff', 'dc_fnmatch': '*.tiff'}\n"
     ]
    }
   ],
   "source": [
    "# after\n",
    "\n",
    "print(f\"{data['tasks'][0]['inputs'] =}\")"
   ]
  },
  {
   "cell_type": "markdown",
   "id": "3d909470-e87e-4d82-9f51-039425789891",
   "metadata": {},
   "source": [
    "# find location of specific tag "
   ]
  },
  {
   "cell_type": "code",
   "execution_count": 18,
   "id": "789a9ebb-3c6f-4ad9-9da6-2a7300582ceb",
   "metadata": {},
   "outputs": [
    {
     "name": "stdout",
     "output_type": "stream",
     "text": [
      "Before: example_dict ={'tag1': 'value1', 'nested': {'tag2': 'value2', 'tag3': 'value3', 'deep_nested': {'tag1': 'value4'}}}\n",
      "After: example_dict ={'tag1': 'new_value', 'nested': {'tag2': 'value2', 'tag3': 'value3', 'deep_nested': {'tag1': 'new_value'}}}\n"
     ]
    }
   ],
   "source": [
    "def replace_value_of_tags(dictionary, name, new_value):\n",
    "\n",
    "    for key, value in dictionary.items():\n",
    "        if key == name:\n",
    "            dictionary[name] = new_value\n",
    "\n",
    "        if isinstance(value, dict):\n",
    "            replace_value_of_tags(value, name, new_value)\n",
    "\n",
    "    return found_tags\n",
    "\n",
    "# Example dictionary with nested dictionaries\n",
    "example_dict = {\n",
    "    \"tag1\": \"value1\",\n",
    "    \"nested\": {\n",
    "        \"tag2\": \"value2\",\n",
    "        \"tag3\": \"value3\",\n",
    "        \"deep_nested\": {\n",
    "            \"tag1\": \"value4\"\n",
    "        }\n",
    "    }\n",
    "}\n",
    "\n",
    "name_to_find = \"tag1\"\n",
    "new_value = \"new_value\"\n",
    "\n",
    "print(f\"Before: {example_dict =}\")\n",
    "\n",
    "replace_value_of_tags(example_dict, name_to_find, new_value)\n",
    "\n",
    "print(f\"After: {example_dict =}\")\n"
   ]
  },
  {
   "cell_type": "code",
   "execution_count": null,
   "id": "f3075b3b-7bb5-48b3-bd3b-6fa0e444b1eb",
   "metadata": {},
   "outputs": [],
   "source": []
  }
 ],
 "metadata": {
  "kernelspec": {
   "display_name": "Python 3 (ipykernel)",
   "language": "python",
   "name": "python3"
  },
  "language_info": {
   "codemirror_mode": {
    "name": "ipython",
    "version": 3
   },
   "file_extension": ".py",
   "mimetype": "text/x-python",
   "name": "python",
   "nbconvert_exporter": "python",
   "pygments_lexer": "ipython3",
   "version": "3.12.2"
  }
 },
 "nbformat": 4,
 "nbformat_minor": 5
}
